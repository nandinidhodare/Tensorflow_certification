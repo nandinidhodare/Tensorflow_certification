{
 "cells": [
  {
   "cell_type": "code",
   "execution_count": 1,
   "id": "0588b567",
   "metadata": {},
   "outputs": [],
   "source": [
    "import tensorflow as tf\n",
    "#tf.logging.set_verbosity(tf.logging.error)\n",
    "import numpy as np"
   ]
  },
  {
   "cell_type": "code",
   "execution_count": 2,
   "id": "b9886034",
   "metadata": {},
   "outputs": [],
   "source": [
    "celsius_q = np.array([-40,-10,0,8,15,22,38],dtype=float)\n",
    "fahernheit_q = np.array([-40,14,32,46,59,72,100],dtype=float)"
   ]
  },
  {
   "cell_type": "code",
   "execution_count": 3,
   "id": "59ebac85",
   "metadata": {},
   "outputs": [
    {
     "name": "stdout",
     "output_type": "stream",
     "text": [
      "-40.0 degree celsius = -40.0 degree fahrenheit\n",
      "-10.0 degree celsius = 14.0 degree fahrenheit\n",
      "0.0 degree celsius = 32.0 degree fahrenheit\n",
      "8.0 degree celsius = 46.0 degree fahrenheit\n",
      "15.0 degree celsius = 59.0 degree fahrenheit\n",
      "22.0 degree celsius = 72.0 degree fahrenheit\n",
      "38.0 degree celsius = 100.0 degree fahrenheit\n"
     ]
    }
   ],
   "source": [
    "for i,c in enumerate(celsius_q):\n",
    "    print(\"{} degree celsius = {} degree fahrenheit\".format(c,fahernheit_q[i]))"
   ]
  },
  {
   "cell_type": "code",
   "execution_count": 4,
   "id": "f9b50694",
   "metadata": {},
   "outputs": [],
   "source": [
    "model = tf.keras.Sequential([\n",
    "    tf.keras.layers.Dense(units=1,input_shape=[1])\n",
    "])"
   ]
  },
  {
   "cell_type": "code",
   "execution_count": 5,
   "id": "42312817",
   "metadata": {},
   "outputs": [
    {
     "name": "stdout",
     "output_type": "stream",
     "text": [
      "Model: \"sequential\"\n",
      "_________________________________________________________________\n",
      " Layer (type)                Output Shape              Param #   \n",
      "=================================================================\n",
      " dense (Dense)               (None, 1)                 2         \n",
      "                                                                 \n",
      "=================================================================\n",
      "Total params: 2\n",
      "Trainable params: 2\n",
      "Non-trainable params: 0\n",
      "_________________________________________________________________\n"
     ]
    }
   ],
   "source": [
    "model.summary()"
   ]
  },
  {
   "cell_type": "code",
   "execution_count": 6,
   "id": "da3ea1bb",
   "metadata": {},
   "outputs": [],
   "source": [
    "model.compile(loss='mean_squared_error',optimizer=tf.keras.optimizers.Adam(0.1))"
   ]
  },
  {
   "cell_type": "code",
   "execution_count": 7,
   "id": "3ec29dda",
   "metadata": {},
   "outputs": [],
   "source": [
    "history = model.fit(celsius_q,fahernheit_q,epochs=500,verbose=False)"
   ]
  },
  {
   "cell_type": "code",
   "execution_count": 8,
   "id": "536f5421",
   "metadata": {},
   "outputs": [
    {
     "name": "stdout",
     "output_type": "stream",
     "text": [
      "Requirement already satisfied: matplotlib in c:\\users\\asus\\.conda\\envs\\tfnew\\lib\\site-packages (3.7.1)\n",
      "Requirement already satisfied: contourpy>=1.0.1 in c:\\users\\asus\\.conda\\envs\\tfnew\\lib\\site-packages (from matplotlib) (1.0.7)\n",
      "Requirement already satisfied: packaging>=20.0 in c:\\users\\asus\\.conda\\envs\\tfnew\\lib\\site-packages (from matplotlib) (23.0)\n",
      "Requirement already satisfied: numpy>=1.20 in c:\\users\\asus\\.conda\\envs\\tfnew\\lib\\site-packages (from matplotlib) (1.23.5)\n",
      "Requirement already satisfied: cycler>=0.10 in c:\\users\\asus\\.conda\\envs\\tfnew\\lib\\site-packages (from matplotlib) (0.11.0)\n",
      "Requirement already satisfied: kiwisolver>=1.0.1 in c:\\users\\asus\\.conda\\envs\\tfnew\\lib\\site-packages (from matplotlib) (1.4.4)\n",
      "Requirement already satisfied: pyparsing>=2.3.1 in c:\\users\\asus\\.conda\\envs\\tfnew\\lib\\site-packages (from matplotlib) (3.0.9)\n",
      "Requirement already satisfied: fonttools>=4.22.0 in c:\\users\\asus\\.conda\\envs\\tfnew\\lib\\site-packages (from matplotlib) (4.39.2)\n",
      "Requirement already satisfied: pillow>=6.2.0 in c:\\users\\asus\\.conda\\envs\\tfnew\\lib\\site-packages (from matplotlib) (9.4.0)\n",
      "Requirement already satisfied: python-dateutil>=2.7 in c:\\users\\asus\\.conda\\envs\\tfnew\\lib\\site-packages (from matplotlib) (2.8.2)\n",
      "Requirement already satisfied: importlib-resources>=3.2.0 in c:\\users\\asus\\.conda\\envs\\tfnew\\lib\\site-packages (from matplotlib) (5.12.0)\n",
      "Requirement already satisfied: zipp>=3.1.0 in c:\\users\\asus\\.conda\\envs\\tfnew\\lib\\site-packages (from importlib-resources>=3.2.0->matplotlib) (3.15.0)\n",
      "Requirement already satisfied: six>=1.5 in c:\\users\\asus\\.conda\\envs\\tfnew\\lib\\site-packages (from python-dateutil>=2.7->matplotlib) (1.16.0)\n",
      "Note: you may need to restart the kernel to use updated packages.\n"
     ]
    },
    {
     "name": "stderr",
     "output_type": "stream",
     "text": [
      "WARNING: Ignoring invalid distribution -atplotlib (c:\\users\\asus\\.conda\\envs\\tfnew\\lib\\site-packages)\n",
      "WARNING: Ignoring invalid distribution -atplotlib (c:\\users\\asus\\.conda\\envs\\tfnew\\lib\\site-packages)\n",
      "WARNING: Ignoring invalid distribution -atplotlib (c:\\users\\asus\\.conda\\envs\\tfnew\\lib\\site-packages)\n",
      "WARNING: Ignoring invalid distribution -atplotlib (c:\\users\\asus\\.conda\\envs\\tfnew\\lib\\site-packages)\n",
      "WARNING: Ignoring invalid distribution -atplotlib (c:\\users\\asus\\.conda\\envs\\tfnew\\lib\\site-packages)\n",
      "WARNING: Ignoring invalid distribution -atplotlib (c:\\users\\asus\\.conda\\envs\\tfnew\\lib\\site-packages)\n"
     ]
    }
   ],
   "source": [
    "pip install matplotlib"
   ]
  },
  {
   "cell_type": "code",
   "execution_count": 9,
   "id": "d6928d1a",
   "metadata": {},
   "outputs": [
    {
     "data": {
      "image/png": "[encoded data removed]",
      "text/plain": [
       "<Figure size 640x480 with 1 Axes>"
      ]
     },
     "metadata": {},
     "output_type": "display_data"
    }
   ],
   "source": [
    "import matplotlib.pyplot as plt\n",
    "plt.xlabel(\"Epochs\")\n",
    "plt.ylabel(\"Losss\")\n",
    "plt.plot(history.history['loss'])\n",
    "plt.show()"
   ]
  },
  {
   "cell_type": "code",
   "execution_count": 10,
   "id": "880bb737",
   "metadata": {},
   "outputs": [
    {
     "name": "stdout",
     "output_type": "stream",
     "text": [
      "1/1 [==============================] - 0s 94ms/step\n",
      "[[211.33427]]\n"
     ]
    }
   ],
   "source": [
    "print(model.predict([100.0]))"
   ]
  },
  {
   "cell_type": "code",
   "execution_count": 11,
   "id": "204aa9ee",
   "metadata": {},
   "outputs": [
    {
     "name": "stdout",
     "output_type": "stream",
     "text": [
      "These are the layers variables: [array([[1.8211224]], dtype=float32), array([29.222025], dtype=float32)]\n"
     ]
    }
   ],
   "source": [
    "print(\"These are the layers variables: {}\".format(model.layers[0].get_weights()))"
   ]
  },
  {
   "cell_type": "code",
   "execution_count": null,
   "id": "723e563c",
   "metadata": {},
   "outputs": [],
   "source": []
  }
 ],
 "metadata": {
  "kernelspec": {
   "display_name": "Python 3 (ipykernel)",
   "language": "python",
   "name": "python3"
  },
  "language_info": {
   "codemirror_mode": {
    "name": "ipython",
    "version": 3
   },
   "file_extension": ".py",
   "mimetype": "text/x-python",
   "name": "python",
   "nbconvert_exporter": "python",
   "pygments_lexer": "ipython3",
   "version": "3.8.16"
  }
 },
 "nbformat": 4,
 "nbformat_minor": 5
}
